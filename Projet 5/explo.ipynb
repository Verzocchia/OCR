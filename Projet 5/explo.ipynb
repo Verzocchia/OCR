{
 "cells": [
  {
   "cell_type": "code",
   "execution_count": 177,
   "metadata": {},
   "outputs": [
    {
     "name": "stderr",
     "output_type": "stream",
     "text": [
      "d:\\OpenClassRooms\\env_ocr\\Lib\\site-packages\\openpyxl\\worksheet\\_reader.py:329: UserWarning: Unknown extension is not supported and will be removed\n",
      "  warn(msg)\n",
      "d:\\OpenClassRooms\\env_ocr\\Lib\\site-packages\\openpyxl\\worksheet\\_reader.py:329: UserWarning: Unknown extension is not supported and will be removed\n",
      "  warn(msg)\n",
      "d:\\OpenClassRooms\\env_ocr\\Lib\\site-packages\\openpyxl\\worksheet\\_reader.py:329: UserWarning: Unknown extension is not supported and will be removed\n",
      "  warn(msg)\n"
     ]
    }
   ],
   "source": [
    "import pandas as pd \n",
    "import matplotlib.pyplot as plt \n",
    "\n",
    "df_erp = pd.read_excel('./Données/Fichier_erp.xlsx')\n",
    "df_liaison = pd.read_excel('./Données/fichier_liaison.xlsx')\n",
    "df_web = pd.read_excel('./Données/Fichier_web.xlsx')\n",
    "\n",
    "pd.set_option('display.max_columns', 50)"
   ]
  },
  {
   "cell_type": "code",
   "execution_count": 178,
   "metadata": {},
   "outputs": [
    {
     "name": "stdout",
     "output_type": "stream",
     "text": [
      "erp : \n",
      " colonnes : 5 Index(['product_id', 'onsale_web', 'price', 'stock_quantity', 'stock_status'], dtype='object') \n",
      "\n",
      "liaison : \n",
      " colonnes : 2 Index(['product_id', 'id_web'], dtype='object') \n",
      "\n",
      "web : \n",
      " colonnes : 28 Index(['sku', 'virtual', 'downloadable', 'rating_count', 'average_rating',\n",
      "       'total_sales', 'tax_status', 'tax_class', 'post_author', 'post_date',\n",
      "       'post_date_gmt', 'post_content', 'post_title', 'post_excerpt',\n",
      "       'post_status', 'comment_status', 'ping_status', 'post_password',\n",
      "       'post_name', 'post_modified', 'post_modified_gmt',\n",
      "       'post_content_filtered', 'post_parent', 'guid', 'menu_order',\n",
      "       'post_type', 'post_mime_type', 'comment_count'],\n",
      "      dtype='object') \n",
      "\n"
     ]
    }
   ],
   "source": [
    "print('erp :', '\\n','colonnes :',df_erp.shape[1], df_erp.columns, '\\n')\n",
    "print('liaison :', '\\n','colonnes :', df_liaison.shape[1], df_liaison.columns, '\\n')\n",
    "print('web :', '\\n','colonnes :', df_web.shape[1],  df_web.columns, '\\n')"
   ]
  },
  {
   "cell_type": "markdown",
   "metadata": {},
   "source": [
    "---------------------------\n",
    "# Nettoyage basique \n",
    "\n",
    "----------------------------"
   ]
  },
  {
   "cell_type": "markdown",
   "metadata": {},
   "source": [
    "## erp "
   ]
  },
  {
   "cell_type": "code",
   "execution_count": 179,
   "metadata": {},
   "outputs": [
    {
     "name": "stdout",
     "output_type": "stream",
     "text": [
      "   product_id  onsale_web  price  stock_quantity stock_status\n",
      "0        3847           1   24.2               0   outofstock \n",
      "\n",
      "product_id          int64\n",
      "onsale_web          int64\n",
      "price             float64\n",
      "stock_quantity      int64\n",
      "stock_status       object\n",
      "dtype: object\n"
     ]
    }
   ],
   "source": [
    "print(df_erp.head(1), '\\n')\n",
    "print(df_erp.dtypes)"
   ]
  },
  {
   "cell_type": "code",
   "execution_count": 180,
   "metadata": {},
   "outputs": [],
   "source": [
    "df_erp['product_id'] = df_erp['product_id'].astype(str)"
   ]
  },
  {
   "cell_type": "markdown",
   "metadata": {},
   "source": [
    "7 fois plus de produits web référencés que de produits non web "
   ]
  },
  {
   "cell_type": "code",
   "execution_count": 181,
   "metadata": {},
   "outputs": [
    {
     "data": {
      "text/plain": [
       "onsale_web\n",
       "1    717\n",
       "0    108\n",
       "Name: count, dtype: int64"
      ]
     },
     "execution_count": 181,
     "metadata": {},
     "output_type": "execute_result"
    }
   ],
   "source": [
    "df_erp['onsale_web'].value_counts()"
   ]
  },
  {
   "cell_type": "code",
   "execution_count": 182,
   "metadata": {},
   "outputs": [],
   "source": [
    "df_erp['onsale_web'] = df_erp['onsale_web'].astype(bool)"
   ]
  },
  {
   "cell_type": "code",
   "execution_count": 183,
   "metadata": {},
   "outputs": [
    {
     "data": {
      "text/plain": [
       "0"
      ]
     },
     "execution_count": 183,
     "metadata": {},
     "output_type": "execute_result"
    }
   ],
   "source": [
    "df_erp['product_id'].duplicated().sum()"
   ]
  },
  {
   "cell_type": "code",
   "execution_count": 184,
   "metadata": {},
   "outputs": [
    {
     "data": {
      "text/plain": [
       "count    825.000000\n",
       "mean      26.583030\n",
       "std       45.875948\n",
       "min       -1.000000\n",
       "25%        1.000000\n",
       "50%       11.000000\n",
       "75%       34.000000\n",
       "max      578.000000\n",
       "Name: stock_quantity, dtype: float64"
      ]
     },
     "execution_count": 184,
     "metadata": {},
     "output_type": "execute_result"
    }
   ],
   "source": [
    "df_erp['stock_quantity'].describe()"
   ]
  },
  {
   "cell_type": "markdown",
   "metadata": {},
   "source": [
    "-1 ?? On va noter ces produits, mais c'est clairement une erreur "
   ]
  },
  {
   "cell_type": "markdown",
   "metadata": {},
   "source": [
    "On note l'écart net enter la moyenne des stocks (26) et la médiane (11)"
   ]
  },
  {
   "cell_type": "code",
   "execution_count": 185,
   "metadata": {},
   "outputs": [
    {
     "data": {
      "text/html": [
       "<div>\n",
       "<style scoped>\n",
       "    .dataframe tbody tr th:only-of-type {\n",
       "        vertical-align: middle;\n",
       "    }\n",
       "\n",
       "    .dataframe tbody tr th {\n",
       "        vertical-align: top;\n",
       "    }\n",
       "\n",
       "    .dataframe thead th {\n",
       "        text-align: right;\n",
       "    }\n",
       "</style>\n",
       "<table border=\"1\" class=\"dataframe\">\n",
       "  <thead>\n",
       "    <tr style=\"text-align: right;\">\n",
       "      <th></th>\n",
       "      <th>product_id</th>\n",
       "      <th>onsale_web</th>\n",
       "      <th>price</th>\n",
       "      <th>stock_quantity</th>\n",
       "      <th>stock_status</th>\n",
       "    </tr>\n",
       "  </thead>\n",
       "  <tbody>\n",
       "    <tr>\n",
       "      <th>449</th>\n",
       "      <td>4973</td>\n",
       "      <td>False</td>\n",
       "      <td>10.0</td>\n",
       "      <td>-1</td>\n",
       "      <td>outofstock</td>\n",
       "    </tr>\n",
       "    <tr>\n",
       "      <th>573</th>\n",
       "      <td>5700</td>\n",
       "      <td>True</td>\n",
       "      <td>44.5</td>\n",
       "      <td>-1</td>\n",
       "      <td>outofstock</td>\n",
       "    </tr>\n",
       "  </tbody>\n",
       "</table>\n",
       "</div>"
      ],
      "text/plain": [
       "    product_id  onsale_web  price  stock_quantity stock_status\n",
       "449       4973       False   10.0              -1   outofstock\n",
       "573       5700        True   44.5              -1   outofstock"
      ]
     },
     "execution_count": 185,
     "metadata": {},
     "output_type": "execute_result"
    }
   ],
   "source": [
    "df_erp[df_erp['stock_quantity'] == -1]"
   ]
  },
  {
   "cell_type": "code",
   "execution_count": 186,
   "metadata": {},
   "outputs": [
    {
     "data": {
      "text/plain": [
       "44"
      ]
     },
     "execution_count": 186,
     "metadata": {},
     "output_type": "execute_result"
    }
   ],
   "source": [
    "df_erp[df_erp['stock_quantity'] > 100].shape[0]"
   ]
  },
  {
   "cell_type": "code",
   "execution_count": 187,
   "metadata": {},
   "outputs": [
    {
     "data": {
      "text/plain": [
       "stock_status\n",
       "instock       638\n",
       "outofstock    187\n",
       "Name: count, dtype: int64"
      ]
     },
     "execution_count": 187,
     "metadata": {},
     "output_type": "execute_result"
    }
   ],
   "source": [
    "df_erp['stock_status'].value_counts()"
   ]
  },
  {
   "cell_type": "code",
   "execution_count": 188,
   "metadata": {},
   "outputs": [
    {
     "data": {
      "text/html": [
       "<div>\n",
       "<style scoped>\n",
       "    .dataframe tbody tr th:only-of-type {\n",
       "        vertical-align: middle;\n",
       "    }\n",
       "\n",
       "    .dataframe tbody tr th {\n",
       "        vertical-align: top;\n",
       "    }\n",
       "\n",
       "    .dataframe thead th {\n",
       "        text-align: right;\n",
       "    }\n",
       "</style>\n",
       "<table border=\"1\" class=\"dataframe\">\n",
       "  <thead>\n",
       "    <tr style=\"text-align: right;\">\n",
       "      <th></th>\n",
       "      <th>product_id</th>\n",
       "      <th>onsale_web</th>\n",
       "      <th>price</th>\n",
       "      <th>stock_quantity</th>\n",
       "      <th>stock_status</th>\n",
       "    </tr>\n",
       "  </thead>\n",
       "  <tbody>\n",
       "    <tr>\n",
       "      <th>0</th>\n",
       "      <td>3847</td>\n",
       "      <td>True</td>\n",
       "      <td>24.2</td>\n",
       "      <td>0</td>\n",
       "      <td>outofstock</td>\n",
       "    </tr>\n",
       "    <tr>\n",
       "      <th>1</th>\n",
       "      <td>3849</td>\n",
       "      <td>True</td>\n",
       "      <td>34.3</td>\n",
       "      <td>0</td>\n",
       "      <td>outofstock</td>\n",
       "    </tr>\n",
       "    <tr>\n",
       "      <th>2</th>\n",
       "      <td>3850</td>\n",
       "      <td>True</td>\n",
       "      <td>20.8</td>\n",
       "      <td>0</td>\n",
       "      <td>outofstock</td>\n",
       "    </tr>\n",
       "    <tr>\n",
       "      <th>3</th>\n",
       "      <td>4032</td>\n",
       "      <td>True</td>\n",
       "      <td>14.1</td>\n",
       "      <td>0</td>\n",
       "      <td>outofstock</td>\n",
       "    </tr>\n",
       "    <tr>\n",
       "      <th>4</th>\n",
       "      <td>4039</td>\n",
       "      <td>True</td>\n",
       "      <td>46.0</td>\n",
       "      <td>0</td>\n",
       "      <td>outofstock</td>\n",
       "    </tr>\n",
       "    <tr>\n",
       "      <th>...</th>\n",
       "      <td>...</td>\n",
       "      <td>...</td>\n",
       "      <td>...</td>\n",
       "      <td>...</td>\n",
       "      <td>...</td>\n",
       "    </tr>\n",
       "    <tr>\n",
       "      <th>820</th>\n",
       "      <td>7203</td>\n",
       "      <td>False</td>\n",
       "      <td>45.0</td>\n",
       "      <td>30</td>\n",
       "      <td>instock</td>\n",
       "    </tr>\n",
       "    <tr>\n",
       "      <th>821</th>\n",
       "      <td>7204</td>\n",
       "      <td>False</td>\n",
       "      <td>45.0</td>\n",
       "      <td>9</td>\n",
       "      <td>instock</td>\n",
       "    </tr>\n",
       "    <tr>\n",
       "      <th>822</th>\n",
       "      <td>7247</td>\n",
       "      <td>True</td>\n",
       "      <td>54.8</td>\n",
       "      <td>23</td>\n",
       "      <td>instock</td>\n",
       "    </tr>\n",
       "    <tr>\n",
       "      <th>823</th>\n",
       "      <td>7329</td>\n",
       "      <td>False</td>\n",
       "      <td>26.5</td>\n",
       "      <td>14</td>\n",
       "      <td>instock</td>\n",
       "    </tr>\n",
       "    <tr>\n",
       "      <th>824</th>\n",
       "      <td>7338</td>\n",
       "      <td>True</td>\n",
       "      <td>16.3</td>\n",
       "      <td>45</td>\n",
       "      <td>instock</td>\n",
       "    </tr>\n",
       "  </tbody>\n",
       "</table>\n",
       "<p>825 rows × 5 columns</p>\n",
       "</div>"
      ],
      "text/plain": [
       "    product_id  onsale_web  price  stock_quantity stock_status\n",
       "0         3847        True   24.2               0   outofstock\n",
       "1         3849        True   34.3               0   outofstock\n",
       "2         3850        True   20.8               0   outofstock\n",
       "3         4032        True   14.1               0   outofstock\n",
       "4         4039        True   46.0               0   outofstock\n",
       "..         ...         ...    ...             ...          ...\n",
       "820       7203       False   45.0              30      instock\n",
       "821       7204       False   45.0               9      instock\n",
       "822       7247        True   54.8              23      instock\n",
       "823       7329       False   26.5              14      instock\n",
       "824       7338        True   16.3              45      instock\n",
       "\n",
       "[825 rows x 5 columns]"
      ]
     },
     "execution_count": 188,
     "metadata": {},
     "output_type": "execute_result"
    }
   ],
   "source": [
    "df_erp"
   ]
  },
  {
   "cell_type": "code",
   "execution_count": 189,
   "metadata": {},
   "outputs": [
    {
     "data": {
      "image/png": "[encoded data removed]",
      "text/plain": [
       "<Figure size 1000x600 with 1 Axes>"
      ]
     },
     "metadata": {},
     "output_type": "display_data"
    }
   ],
   "source": [
    "plt.figure(figsize=(10, 6))\n",
    "\n",
    "plt.hist(df_erp['price'], bins=range(10, int(df_erp['price'].max()) + 10, 10), color='skyblue', edgecolor='black', alpha=0.7)\n",
    "plt.title('Repartition des prix par tranche de 10€ \\n')\n",
    "plt.xlabel('Quantité de produits à ce prix')\n",
    "plt.ylabel('\\n Tranches de prix')\n",
    "\n",
    "plt.xticks(range(10, int(df_erp['price'].max()) + 10, 10), rotation = 30)\n",
    "plt.grid(axis='y', linestyle='--', alpha=0.7)\n",
    "\n",
    "plt.savefig('./Graph/repartition_erp_tranche_10.png', bbox_inches='tight')"
   ]
  },
  {
   "cell_type": "code",
   "execution_count": 190,
   "metadata": {},
   "outputs": [
    {
     "data": {
      "image/png": "[encoded data removed]",
      "text/plain": [
       "<Figure size 800x550 with 1 Axes>"
      ]
     },
     "metadata": {},
     "output_type": "display_data"
    }
   ],
   "source": [
    "df_instock = df_erp[df_erp['stock_status'] == 'instock']\n",
    "df_outstock = df_erp[df_erp['stock_status'] == 'outofstock']\n",
    "\n",
    "plt.hist(df_instock['price'], bins=range(10, int(df_erp['price'].max()) + 10, 10), color='skyblue', edgecolor='black', alpha=0.7, label='En stock')\n",
    "plt.hist(df_outstock['price'], bins=range(10, int(df_erp['price'].max()) + 10, 10), color='red', edgecolor='black', alpha=0.7, label='Hors stock')\n",
    "\n",
    "plt.title('Répartition des prix par tranche de 10€ \\n')\n",
    "plt.xlabel('Tranches de prix')\n",
    "plt.ylabel('Quantité de produits à ce prix \\n')\n",
    "plt.xticks(range(10, int(df_erp['price'].max()) + 10, 10), rotation=30)\n",
    "plt.grid(axis='y', linestyle='--', alpha=0.7)\n",
    "plt.legend()\n",
    "\n",
    "plt.savefig('./Graph/repartion_erp_tranche_10_stock.png',bbox_inches='tight')\n",
    "plt.show()"
   ]
  },
  {
   "cell_type": "markdown",
   "metadata": {},
   "source": [
    "______________\n",
    "## liaison "
   ]
  },
  {
   "cell_type": "code",
   "execution_count": 191,
   "metadata": {},
   "outputs": [
    {
     "data": {
      "text/plain": [
       "product_id     int64\n",
       "id_web        object\n",
       "dtype: object"
      ]
     },
     "execution_count": 191,
     "metadata": {},
     "output_type": "execute_result"
    }
   ],
   "source": [
    "df_liaison.dtypes "
   ]
  },
  {
   "cell_type": "code",
   "execution_count": 192,
   "metadata": {},
   "outputs": [
    {
     "name": "stdout",
     "output_type": "stream",
     "text": [
      "valeurs nulles :\n",
      "product_id : 0\n",
      "sku : 91 \n",
      "\n",
      "doublon :\n",
      "product_id : 0\n",
      "sku : 0\n"
     ]
    }
   ],
   "source": [
    "df_liaison['product_id'] = df_liaison['product_id'].astype(str)\n",
    "df_liaison = df_liaison.rename(columns={'id_web' : 'sku'})\n",
    "\n",
    "print('valeurs nulles :')\n",
    "print('product_id :', df_liaison['product_id'].isna().sum())\n",
    "print('sku :', df_liaison['sku'].isna().sum(), '\\n')\n",
    "\n",
    "\n",
    "print('doublon :')\n",
    "print('product_id :', df_liaison['product_id'].duplicated().sum())\n",
    "print('sku :', df_liaison[~df_liaison['sku'].isna()].duplicated().sum())"
   ]
  },
  {
   "cell_type": "code",
   "execution_count": 193,
   "metadata": {},
   "outputs": [
    {
     "data": {
      "text/html": [
       "<div>\n",
       "<style scoped>\n",
       "    .dataframe tbody tr th:only-of-type {\n",
       "        vertical-align: middle;\n",
       "    }\n",
       "\n",
       "    .dataframe tbody tr th {\n",
       "        vertical-align: top;\n",
       "    }\n",
       "\n",
       "    .dataframe thead th {\n",
       "        text-align: right;\n",
       "    }\n",
       "</style>\n",
       "<table border=\"1\" class=\"dataframe\">\n",
       "  <thead>\n",
       "    <tr style=\"text-align: right;\">\n",
       "      <th></th>\n",
       "      <th>product_id</th>\n",
       "      <th>sku</th>\n",
       "    </tr>\n",
       "  </thead>\n",
       "  <tbody>\n",
       "    <tr>\n",
       "      <th>19</th>\n",
       "      <td>4055</td>\n",
       "      <td>NaN</td>\n",
       "    </tr>\n",
       "    <tr>\n",
       "      <th>49</th>\n",
       "      <td>4090</td>\n",
       "      <td>NaN</td>\n",
       "    </tr>\n",
       "    <tr>\n",
       "      <th>50</th>\n",
       "      <td>4092</td>\n",
       "      <td>NaN</td>\n",
       "    </tr>\n",
       "    <tr>\n",
       "      <th>119</th>\n",
       "      <td>4195</td>\n",
       "      <td>NaN</td>\n",
       "    </tr>\n",
       "    <tr>\n",
       "      <th>131</th>\n",
       "      <td>4209</td>\n",
       "      <td>NaN</td>\n",
       "    </tr>\n",
       "  </tbody>\n",
       "</table>\n",
       "</div>"
      ],
      "text/plain": [
       "    product_id  sku\n",
       "19        4055  NaN\n",
       "49        4090  NaN\n",
       "50        4092  NaN\n",
       "119       4195  NaN\n",
       "131       4209  NaN"
      ]
     },
     "execution_count": 193,
     "metadata": {},
     "output_type": "execute_result"
    }
   ],
   "source": [
    "df_liaison[df_liaison['sku'].isna()].head()"
   ]
  },
  {
   "cell_type": "markdown",
   "metadata": {},
   "source": [
    "C'est tout à fait logique, lorsque sku est NaN, ça devrait normalement dire que le produit n'est pas dispo sur le site web"
   ]
  },
  {
   "cell_type": "code",
   "execution_count": 194,
   "metadata": {},
   "outputs": [
    {
     "data": {
      "text/html": [
       "<div>\n",
       "<style scoped>\n",
       "    .dataframe tbody tr th:only-of-type {\n",
       "        vertical-align: middle;\n",
       "    }\n",
       "\n",
       "    .dataframe tbody tr th {\n",
       "        vertical-align: top;\n",
       "    }\n",
       "\n",
       "    .dataframe thead th {\n",
       "        text-align: right;\n",
       "    }\n",
       "</style>\n",
       "<table border=\"1\" class=\"dataframe\">\n",
       "  <thead>\n",
       "    <tr style=\"text-align: right;\">\n",
       "      <th></th>\n",
       "      <th>product_id</th>\n",
       "      <th>onsale_web</th>\n",
       "      <th>price</th>\n",
       "      <th>stock_quantity</th>\n",
       "      <th>stock_status</th>\n",
       "      <th>sku</th>\n",
       "    </tr>\n",
       "  </thead>\n",
       "  <tbody>\n",
       "    <tr>\n",
       "      <th>0</th>\n",
       "      <td>3847</td>\n",
       "      <td>True</td>\n",
       "      <td>24.2</td>\n",
       "      <td>0</td>\n",
       "      <td>outofstock</td>\n",
       "      <td>15298</td>\n",
       "    </tr>\n",
       "    <tr>\n",
       "      <th>1</th>\n",
       "      <td>3849</td>\n",
       "      <td>True</td>\n",
       "      <td>34.3</td>\n",
       "      <td>0</td>\n",
       "      <td>outofstock</td>\n",
       "      <td>15296</td>\n",
       "    </tr>\n",
       "    <tr>\n",
       "      <th>2</th>\n",
       "      <td>3850</td>\n",
       "      <td>True</td>\n",
       "      <td>20.8</td>\n",
       "      <td>0</td>\n",
       "      <td>outofstock</td>\n",
       "      <td>15300</td>\n",
       "    </tr>\n",
       "    <tr>\n",
       "      <th>3</th>\n",
       "      <td>4032</td>\n",
       "      <td>True</td>\n",
       "      <td>14.1</td>\n",
       "      <td>0</td>\n",
       "      <td>outofstock</td>\n",
       "      <td>19814</td>\n",
       "    </tr>\n",
       "    <tr>\n",
       "      <th>4</th>\n",
       "      <td>4039</td>\n",
       "      <td>True</td>\n",
       "      <td>46.0</td>\n",
       "      <td>0</td>\n",
       "      <td>outofstock</td>\n",
       "      <td>19815</td>\n",
       "    </tr>\n",
       "    <tr>\n",
       "      <th>...</th>\n",
       "      <td>...</td>\n",
       "      <td>...</td>\n",
       "      <td>...</td>\n",
       "      <td>...</td>\n",
       "      <td>...</td>\n",
       "      <td>...</td>\n",
       "    </tr>\n",
       "    <tr>\n",
       "      <th>820</th>\n",
       "      <td>7203</td>\n",
       "      <td>False</td>\n",
       "      <td>45.0</td>\n",
       "      <td>30</td>\n",
       "      <td>instock</td>\n",
       "      <td>NaN</td>\n",
       "    </tr>\n",
       "    <tr>\n",
       "      <th>821</th>\n",
       "      <td>7204</td>\n",
       "      <td>False</td>\n",
       "      <td>45.0</td>\n",
       "      <td>9</td>\n",
       "      <td>instock</td>\n",
       "      <td>NaN</td>\n",
       "    </tr>\n",
       "    <tr>\n",
       "      <th>822</th>\n",
       "      <td>7247</td>\n",
       "      <td>True</td>\n",
       "      <td>54.8</td>\n",
       "      <td>23</td>\n",
       "      <td>instock</td>\n",
       "      <td>13127-1</td>\n",
       "    </tr>\n",
       "    <tr>\n",
       "      <th>823</th>\n",
       "      <td>7329</td>\n",
       "      <td>False</td>\n",
       "      <td>26.5</td>\n",
       "      <td>14</td>\n",
       "      <td>instock</td>\n",
       "      <td>14680-1</td>\n",
       "    </tr>\n",
       "    <tr>\n",
       "      <th>824</th>\n",
       "      <td>7338</td>\n",
       "      <td>True</td>\n",
       "      <td>16.3</td>\n",
       "      <td>45</td>\n",
       "      <td>instock</td>\n",
       "      <td>16230</td>\n",
       "    </tr>\n",
       "  </tbody>\n",
       "</table>\n",
       "<p>825 rows × 6 columns</p>\n",
       "</div>"
      ],
      "text/plain": [
       "    product_id  onsale_web  price  stock_quantity stock_status      sku\n",
       "0         3847        True   24.2               0   outofstock    15298\n",
       "1         3849        True   34.3               0   outofstock    15296\n",
       "2         3850        True   20.8               0   outofstock    15300\n",
       "3         4032        True   14.1               0   outofstock    19814\n",
       "4         4039        True   46.0               0   outofstock    19815\n",
       "..         ...         ...    ...             ...          ...      ...\n",
       "820       7203       False   45.0              30      instock      NaN\n",
       "821       7204       False   45.0               9      instock      NaN\n",
       "822       7247        True   54.8              23      instock  13127-1\n",
       "823       7329       False   26.5              14      instock  14680-1\n",
       "824       7338        True   16.3              45      instock    16230\n",
       "\n",
       "[825 rows x 6 columns]"
      ]
     },
     "execution_count": 194,
     "metadata": {},
     "output_type": "execute_result"
    }
   ],
   "source": [
    "df_erp_l = df_erp.merge(df_liaison, on = 'product_id', how = 'left')\n",
    "df_erp_l"
   ]
  },
  {
   "cell_type": "markdown",
   "metadata": {},
   "source": [
    "Pas de sku sans product id "
   ]
  },
  {
   "cell_type": "code",
   "execution_count": 195,
   "metadata": {},
   "outputs": [
    {
     "data": {
      "text/plain": [
       "0"
      ]
     },
     "execution_count": 195,
     "metadata": {},
     "output_type": "execute_result"
    }
   ],
   "source": [
    "df_erp_l[(~df_erp_l['sku'].isna()) & (df_erp_l['product_id'].isna())].shape[0]"
   ]
  },
  {
   "cell_type": "markdown",
   "metadata": {},
   "source": [
    "sku = 13127-1 ????????? "
   ]
  },
  {
   "cell_type": "code",
   "execution_count": 196,
   "metadata": {},
   "outputs": [
    {
     "data": {
      "text/html": [
       "<div>\n",
       "<style scoped>\n",
       "    .dataframe tbody tr th:only-of-type {\n",
       "        vertical-align: middle;\n",
       "    }\n",
       "\n",
       "    .dataframe tbody tr th {\n",
       "        vertical-align: top;\n",
       "    }\n",
       "\n",
       "    .dataframe thead th {\n",
       "        text-align: right;\n",
       "    }\n",
       "</style>\n",
       "<table border=\"1\" class=\"dataframe\">\n",
       "  <thead>\n",
       "    <tr style=\"text-align: right;\">\n",
       "      <th></th>\n",
       "      <th>product_id</th>\n",
       "      <th>onsale_web</th>\n",
       "      <th>price</th>\n",
       "      <th>stock_quantity</th>\n",
       "      <th>stock_status</th>\n",
       "    </tr>\n",
       "  </thead>\n",
       "  <tbody>\n",
       "    <tr>\n",
       "      <th>822</th>\n",
       "      <td>7247</td>\n",
       "      <td>True</td>\n",
       "      <td>54.8</td>\n",
       "      <td>23</td>\n",
       "      <td>instock</td>\n",
       "    </tr>\n",
       "  </tbody>\n",
       "</table>\n",
       "</div>"
      ],
      "text/plain": [
       "    product_id  onsale_web  price  stock_quantity stock_status\n",
       "822       7247        True   54.8              23      instock"
      ]
     },
     "execution_count": 196,
     "metadata": {},
     "output_type": "execute_result"
    }
   ],
   "source": [
    "df_erp[df_erp['product_id'] == '7247']"
   ]
  },
  {
   "cell_type": "code",
   "execution_count": 197,
   "metadata": {},
   "outputs": [
    {
     "data": {
      "text/html": [
       "<div>\n",
       "<style scoped>\n",
       "    .dataframe tbody tr th:only-of-type {\n",
       "        vertical-align: middle;\n",
       "    }\n",
       "\n",
       "    .dataframe tbody tr th {\n",
       "        vertical-align: top;\n",
       "    }\n",
       "\n",
       "    .dataframe thead th {\n",
       "        text-align: right;\n",
       "    }\n",
       "</style>\n",
       "<table border=\"1\" class=\"dataframe\">\n",
       "  <thead>\n",
       "    <tr style=\"text-align: right;\">\n",
       "      <th></th>\n",
       "      <th>product_id</th>\n",
       "      <th>sku</th>\n",
       "    </tr>\n",
       "  </thead>\n",
       "  <tbody>\n",
       "    <tr>\n",
       "      <th>822</th>\n",
       "      <td>7247</td>\n",
       "      <td>13127-1</td>\n",
       "    </tr>\n",
       "  </tbody>\n",
       "</table>\n",
       "</div>"
      ],
      "text/plain": [
       "    product_id      sku\n",
       "822       7247  13127-1"
      ]
     },
     "execution_count": 197,
     "metadata": {},
     "output_type": "execute_result"
    }
   ],
   "source": [
    "df_liaison[(~df_liaison['sku'].isna()) &(df_liaison['sku'].str.contains('13127'))]"
   ]
  },
  {
   "cell_type": "code",
   "execution_count": 198,
   "metadata": {},
   "outputs": [
    {
     "data": {
      "text/html": [
       "<div>\n",
       "<style scoped>\n",
       "    .dataframe tbody tr th:only-of-type {\n",
       "        vertical-align: middle;\n",
       "    }\n",
       "\n",
       "    .dataframe tbody tr th {\n",
       "        vertical-align: top;\n",
       "    }\n",
       "\n",
       "    .dataframe thead th {\n",
       "        text-align: right;\n",
       "    }\n",
       "</style>\n",
       "<table border=\"1\" class=\"dataframe\">\n",
       "  <thead>\n",
       "    <tr style=\"text-align: right;\">\n",
       "      <th></th>\n",
       "      <th>sku</th>\n",
       "      <th>virtual</th>\n",
       "      <th>downloadable</th>\n",
       "      <th>rating_count</th>\n",
       "      <th>average_rating</th>\n",
       "      <th>total_sales</th>\n",
       "      <th>tax_status</th>\n",
       "      <th>tax_class</th>\n",
       "      <th>post_author</th>\n",
       "      <th>post_date</th>\n",
       "      <th>post_date_gmt</th>\n",
       "      <th>post_content</th>\n",
       "      <th>post_title</th>\n",
       "      <th>post_excerpt</th>\n",
       "      <th>post_status</th>\n",
       "      <th>comment_status</th>\n",
       "      <th>ping_status</th>\n",
       "      <th>post_password</th>\n",
       "      <th>post_name</th>\n",
       "      <th>post_modified</th>\n",
       "      <th>post_modified_gmt</th>\n",
       "      <th>post_content_filtered</th>\n",
       "      <th>post_parent</th>\n",
       "      <th>guid</th>\n",
       "      <th>menu_order</th>\n",
       "      <th>post_type</th>\n",
       "      <th>post_mime_type</th>\n",
       "      <th>comment_count</th>\n",
       "    </tr>\n",
       "  </thead>\n",
       "  <tbody>\n",
       "    <tr>\n",
       "      <th>490</th>\n",
       "      <td>13127-1</td>\n",
       "      <td>0</td>\n",
       "      <td>0</td>\n",
       "      <td>0</td>\n",
       "      <td>0.0</td>\n",
       "      <td>0.0</td>\n",
       "      <td>NaN</td>\n",
       "      <td>NaN</td>\n",
       "      <td>2.0</td>\n",
       "      <td>2020-06-09 15:42:04</td>\n",
       "      <td>2020-06-09 13:42:04</td>\n",
       "      <td>NaN</td>\n",
       "      <td>Clos du Mont-Olivet Châteauneuf-du-Pape 2007</td>\n",
       "      <td>NaN</td>\n",
       "      <td>publish</td>\n",
       "      <td>closed</td>\n",
       "      <td>closed</td>\n",
       "      <td>NaN</td>\n",
       "      <td>clos-du-mont-olivet-chateauneuf-du-pape-2007-2</td>\n",
       "      <td>2020-07-20 17:09:06</td>\n",
       "      <td>2020-07-20 15:09:06</td>\n",
       "      <td>NaN</td>\n",
       "      <td>0.0</td>\n",
       "      <td>https://www.bottle-neck.fr/wp-content/uploads/...</td>\n",
       "      <td>0.0</td>\n",
       "      <td>attachment</td>\n",
       "      <td>image/jpeg</td>\n",
       "      <td>0.0</td>\n",
       "    </tr>\n",
       "    <tr>\n",
       "      <th>503</th>\n",
       "      <td>13127-1</td>\n",
       "      <td>0</td>\n",
       "      <td>0</td>\n",
       "      <td>0</td>\n",
       "      <td>0.0</td>\n",
       "      <td>0.0</td>\n",
       "      <td>taxable</td>\n",
       "      <td>NaN</td>\n",
       "      <td>2.0</td>\n",
       "      <td>2020-06-09 15:42:04</td>\n",
       "      <td>2020-06-09 13:42:04</td>\n",
       "      <td>NaN</td>\n",
       "      <td>Clos du Mont-Olivet Châteauneuf-du-Pape 2007</td>\n",
       "      <td>Nez gracieux, très élégant avec une touche flo...</td>\n",
       "      <td>publish</td>\n",
       "      <td>closed</td>\n",
       "      <td>closed</td>\n",
       "      <td>NaN</td>\n",
       "      <td>clos-du-mont-olivet-chateauneuf-du-pape-2007-2</td>\n",
       "      <td>2020-07-20 17:09:06</td>\n",
       "      <td>2020-07-20 15:09:06</td>\n",
       "      <td>NaN</td>\n",
       "      <td>0.0</td>\n",
       "      <td>https://www.bottle-neck.fr/?post_type=product&amp;...</td>\n",
       "      <td>0.0</td>\n",
       "      <td>product</td>\n",
       "      <td>NaN</td>\n",
       "      <td>0.0</td>\n",
       "    </tr>\n",
       "  </tbody>\n",
       "</table>\n",
       "</div>"
      ],
      "text/plain": [
       "         sku  virtual  downloadable  rating_count  average_rating  \\\n",
       "490  13127-1        0             0             0             0.0   \n",
       "503  13127-1        0             0             0             0.0   \n",
       "\n",
       "     total_sales tax_status  tax_class  post_author           post_date  \\\n",
       "490          0.0        NaN        NaN          2.0 2020-06-09 15:42:04   \n",
       "503          0.0    taxable        NaN          2.0 2020-06-09 15:42:04   \n",
       "\n",
       "          post_date_gmt  post_content  \\\n",
       "490 2020-06-09 13:42:04           NaN   \n",
       "503 2020-06-09 13:42:04           NaN   \n",
       "\n",
       "                                       post_title  \\\n",
       "490  Clos du Mont-Olivet Châteauneuf-du-Pape 2007   \n",
       "503  Clos du Mont-Olivet Châteauneuf-du-Pape 2007   \n",
       "\n",
       "                                          post_excerpt post_status  \\\n",
       "490                                                NaN     publish   \n",
       "503  Nez gracieux, très élégant avec une touche flo...     publish   \n",
       "\n",
       "    comment_status ping_status  post_password  \\\n",
       "490         closed      closed            NaN   \n",
       "503         closed      closed            NaN   \n",
       "\n",
       "                                          post_name       post_modified  \\\n",
       "490  clos-du-mont-olivet-chateauneuf-du-pape-2007-2 2020-07-20 17:09:06   \n",
       "503  clos-du-mont-olivet-chateauneuf-du-pape-2007-2 2020-07-20 17:09:06   \n",
       "\n",
       "      post_modified_gmt  post_content_filtered  post_parent  \\\n",
       "490 2020-07-20 15:09:06                    NaN          0.0   \n",
       "503 2020-07-20 15:09:06                    NaN          0.0   \n",
       "\n",
       "                                                  guid  menu_order  \\\n",
       "490  https://www.bottle-neck.fr/wp-content/uploads/...         0.0   \n",
       "503  https://www.bottle-neck.fr/?post_type=product&...         0.0   \n",
       "\n",
       "      post_type post_mime_type  comment_count  \n",
       "490  attachment     image/jpeg            0.0  \n",
       "503     product            NaN            0.0  "
      ]
     },
     "execution_count": 198,
     "metadata": {},
     "output_type": "execute_result"
    }
   ],
   "source": [
    "df_web[(~df_web['sku'].isna()) &(df_web['sku'].str.contains('13127'))]"
   ]
  },
  {
   "cell_type": "markdown",
   "metadata": {},
   "source": [
    "Bon, ça existe... doublon mais ça existe. "
   ]
  },
  {
   "cell_type": "markdown",
   "metadata": {},
   "source": [
    "------\n",
    "## web "
   ]
  },
  {
   "cell_type": "code",
   "execution_count": 199,
   "metadata": {},
   "outputs": [
    {
     "data": {
      "text/html": [
       "<div>\n",
       "<style scoped>\n",
       "    .dataframe tbody tr th:only-of-type {\n",
       "        vertical-align: middle;\n",
       "    }\n",
       "\n",
       "    .dataframe tbody tr th {\n",
       "        vertical-align: top;\n",
       "    }\n",
       "\n",
       "    .dataframe thead th {\n",
       "        text-align: right;\n",
       "    }\n",
       "</style>\n",
       "<table border=\"1\" class=\"dataframe\">\n",
       "  <thead>\n",
       "    <tr style=\"text-align: right;\">\n",
       "      <th></th>\n",
       "      <th>sku</th>\n",
       "      <th>virtual</th>\n",
       "      <th>downloadable</th>\n",
       "      <th>rating_count</th>\n",
       "      <th>average_rating</th>\n",
       "      <th>total_sales</th>\n",
       "      <th>tax_status</th>\n",
       "      <th>tax_class</th>\n",
       "      <th>post_author</th>\n",
       "      <th>post_date</th>\n",
       "      <th>post_date_gmt</th>\n",
       "      <th>post_content</th>\n",
       "      <th>post_title</th>\n",
       "      <th>post_excerpt</th>\n",
       "      <th>post_status</th>\n",
       "      <th>comment_status</th>\n",
       "      <th>ping_status</th>\n",
       "      <th>post_password</th>\n",
       "      <th>post_name</th>\n",
       "      <th>post_modified</th>\n",
       "      <th>post_modified_gmt</th>\n",
       "      <th>post_content_filtered</th>\n",
       "      <th>post_parent</th>\n",
       "      <th>guid</th>\n",
       "      <th>menu_order</th>\n",
       "      <th>post_type</th>\n",
       "      <th>post_mime_type</th>\n",
       "      <th>comment_count</th>\n",
       "    </tr>\n",
       "  </thead>\n",
       "  <tbody>\n",
       "    <tr>\n",
       "      <th>0</th>\n",
       "      <td>16004</td>\n",
       "      <td>0</td>\n",
       "      <td>0</td>\n",
       "      <td>0</td>\n",
       "      <td>0.0</td>\n",
       "      <td>5.0</td>\n",
       "      <td>NaN</td>\n",
       "      <td>NaN</td>\n",
       "      <td>2.0</td>\n",
       "      <td>2018-06-07 16:27:25</td>\n",
       "      <td>2018-06-07 14:27:25</td>\n",
       "      <td>NaN</td>\n",
       "      <td>Château du Couvent Pomerol 2017</td>\n",
       "      <td>NaN</td>\n",
       "      <td>publish</td>\n",
       "      <td>closed</td>\n",
       "      <td>closed</td>\n",
       "      <td>NaN</td>\n",
       "      <td>chateau-du-couvent-pomerol-2017</td>\n",
       "      <td>2020-08-25 18:35:02</td>\n",
       "      <td>2020-08-25 16:35:02</td>\n",
       "      <td>NaN</td>\n",
       "      <td>0.0</td>\n",
       "      <td>https://www.bottle-neck.fr/wp-content/uploads/...</td>\n",
       "      <td>0.0</td>\n",
       "      <td>attachment</td>\n",
       "      <td>image/jpeg</td>\n",
       "      <td>0.0</td>\n",
       "    </tr>\n",
       "  </tbody>\n",
       "</table>\n",
       "</div>"
      ],
      "text/plain": [
       "     sku  virtual  downloadable  rating_count  average_rating  total_sales  \\\n",
       "0  16004        0             0             0             0.0          5.0   \n",
       "\n",
       "  tax_status  tax_class  post_author           post_date       post_date_gmt  \\\n",
       "0        NaN        NaN          2.0 2018-06-07 16:27:25 2018-06-07 14:27:25   \n",
       "\n",
       "   post_content                       post_title post_excerpt post_status  \\\n",
       "0           NaN  Château du Couvent Pomerol 2017          NaN     publish   \n",
       "\n",
       "  comment_status ping_status  post_password                        post_name  \\\n",
       "0         closed      closed            NaN  chateau-du-couvent-pomerol-2017   \n",
       "\n",
       "        post_modified   post_modified_gmt  post_content_filtered  post_parent  \\\n",
       "0 2020-08-25 18:35:02 2020-08-25 16:35:02                    NaN          0.0   \n",
       "\n",
       "                                                guid  menu_order   post_type  \\\n",
       "0  https://www.bottle-neck.fr/wp-content/uploads/...         0.0  attachment   \n",
       "\n",
       "  post_mime_type  comment_count  \n",
       "0     image/jpeg            0.0  "
      ]
     },
     "execution_count": 199,
     "metadata": {},
     "output_type": "execute_result"
    }
   ],
   "source": [
    "df_web.head(1)"
   ]
  },
  {
   "cell_type": "markdown",
   "metadata": {},
   "source": [
    "Beaucoup de colonnes, sûrement trop "
   ]
  },
  {
   "cell_type": "code",
   "execution_count": 200,
   "metadata": {},
   "outputs": [
    {
     "data": {
      "text/plain": [
       "sku                              object\n",
       "virtual                           int64\n",
       "downloadable                      int64\n",
       "rating_count                      int64\n",
       "average_rating                  float64\n",
       "total_sales                     float64\n",
       "tax_status                       object\n",
       "tax_class                       float64\n",
       "post_author                     float64\n",
       "post_date                datetime64[ns]\n",
       "post_date_gmt            datetime64[ns]\n",
       "post_content                    float64\n",
       "post_title                       object\n",
       "post_excerpt                     object\n",
       "post_status                      object\n",
       "comment_status                   object\n",
       "ping_status                      object\n",
       "post_password                   float64\n",
       "post_name                        object\n",
       "post_modified            datetime64[ns]\n",
       "post_modified_gmt        datetime64[ns]\n",
       "post_content_filtered           float64\n",
       "post_parent                     float64\n",
       "guid                             object\n",
       "menu_order                      float64\n",
       "post_type                        object\n",
       "post_mime_type                   object\n",
       "comment_count                   float64\n",
       "dtype: object"
      ]
     },
     "execution_count": 200,
     "metadata": {},
     "output_type": "execute_result"
    }
   ],
   "source": [
    "df_web.dtypes "
   ]
  },
  {
   "cell_type": "code",
   "execution_count": 201,
   "metadata": {},
   "outputs": [
    {
     "data": {
      "text/plain": [
       "(1513, 28)"
      ]
     },
     "execution_count": 201,
     "metadata": {},
     "output_type": "execute_result"
    }
   ],
   "source": [
    "df_web.shape"
   ]
  },
  {
   "cell_type": "code",
   "execution_count": 202,
   "metadata": {},
   "outputs": [
    {
     "name": "stdout",
     "output_type": "stream",
     "text": [
      "5.6 % de la colonne sku est vide, soit 85 références\n"
     ]
    }
   ],
   "source": [
    "print(((df_web['sku'].isna().sum() / df_web.shape[0]) *100).round(1), '% de la colonne sku est vide, soit', df_web['sku'].isna().sum(), 'références')"
   ]
  },
  {
   "cell_type": "markdown",
   "metadata": {},
   "source": [
    "On explore et on fait un premier tri dans les colonnes à conserver ou non "
   ]
  },
  {
   "cell_type": "code",
   "execution_count": 203,
   "metadata": {},
   "outputs": [
    {
     "data": {
      "text/html": [
       "<div>\n",
       "<style scoped>\n",
       "    .dataframe tbody tr th:only-of-type {\n",
       "        vertical-align: middle;\n",
       "    }\n",
       "\n",
       "    .dataframe tbody tr th {\n",
       "        vertical-align: top;\n",
       "    }\n",
       "\n",
       "    .dataframe thead th {\n",
       "        text-align: right;\n",
       "    }\n",
       "</style>\n",
       "<table border=\"1\" class=\"dataframe\">\n",
       "  <thead>\n",
       "    <tr style=\"text-align: right;\">\n",
       "      <th></th>\n",
       "      <th>sku</th>\n",
       "      <th>total_sales</th>\n",
       "      <th>post_date</th>\n",
       "      <th>post_title</th>\n",
       "      <th>post_excerpt</th>\n",
       "      <th>post_name</th>\n",
       "    </tr>\n",
       "  </thead>\n",
       "  <tbody>\n",
       "    <tr>\n",
       "      <th>2</th>\n",
       "      <td>15075</td>\n",
       "      <td>3</td>\n",
       "      <td>2018-02-14 15:39:43</td>\n",
       "      <td>Parés Baltà Penedès Indigena 2017</td>\n",
       "      <td>Des couleurs et aromes intenses où le fruit et...</td>\n",
       "      <td>pares-balta-penedes-indigena-2017</td>\n",
       "    </tr>\n",
       "    <tr>\n",
       "      <th>3</th>\n",
       "      <td>16209</td>\n",
       "      <td>6</td>\n",
       "      <td>2018-02-14 17:15:31</td>\n",
       "      <td>Maurel Cabardès Tradition 2017</td>\n",
       "      <td>Un joli nez aux arômes de fruits rouges, de ca...</td>\n",
       "      <td>maurel-cabardes-tradition-2017</td>\n",
       "    </tr>\n",
       "    <tr>\n",
       "      <th>5</th>\n",
       "      <td>13895</td>\n",
       "      <td>0</td>\n",
       "      <td>2019-03-19 10:41:50</td>\n",
       "      <td>Château Saransot-Dupré Bordeaux Blanc 2016</td>\n",
       "      <td>&lt;span style=\"display: inline !important; float...</td>\n",
       "      <td>chateau-saransot-dupre-bordeaux-blanc-2016</td>\n",
       "    </tr>\n",
       "    <tr>\n",
       "      <th>6</th>\n",
       "      <td>12857</td>\n",
       "      <td>0</td>\n",
       "      <td>2018-04-12 17:56:13</td>\n",
       "      <td>Château de Meursault Puligny-Montrachet 1er Cr...</td>\n",
       "      <td>Il présente une grande fraîcheur minérale au n...</td>\n",
       "      <td>chateau-de-puligny-montrachet-1cru-champ-canet...</td>\n",
       "    </tr>\n",
       "    <tr>\n",
       "      <th>9</th>\n",
       "      <td>14106</td>\n",
       "      <td>0</td>\n",
       "      <td>2019-06-08 09:54:21</td>\n",
       "      <td>Stéphane Tissot Château-Chalon 2011</td>\n",
       "      <td>Ce vin peut-être dégusté sur sa jeunesse mais ...</td>\n",
       "      <td>stephane-tissot-chateau-chalon-2011</td>\n",
       "    </tr>\n",
       "    <tr>\n",
       "      <th>...</th>\n",
       "      <td>...</td>\n",
       "      <td>...</td>\n",
       "      <td>...</td>\n",
       "      <td>...</td>\n",
       "      <td>...</td>\n",
       "      <td>...</td>\n",
       "    </tr>\n",
       "    <tr>\n",
       "      <th>1501</th>\n",
       "      <td>15941</td>\n",
       "      <td>4</td>\n",
       "      <td>2018-02-12 14:26:52</td>\n",
       "      <td>Domaine de la Jérôme Côtes du Rhône Village 201</td>\n",
       "      <td>Un vin opulent, à la texture onctueuse, et tou...</td>\n",
       "      <td>jerome-cotes-du-rhone-2018</td>\n",
       "    </tr>\n",
       "    <tr>\n",
       "      <th>1503</th>\n",
       "      <td>10459</td>\n",
       "      <td>0</td>\n",
       "      <td>2018-04-13 15:58:19</td>\n",
       "      <td>Alphonse Mellot Sancerre Rouge Génération XIX ...</td>\n",
       "      <td>Robe d'un superbe rubis, dense et profond - As...</td>\n",
       "      <td>alphonse-mellot-sancerre-rouge-generation-xix-...</td>\n",
       "    </tr>\n",
       "    <tr>\n",
       "      <th>1507</th>\n",
       "      <td>16320</td>\n",
       "      <td>3</td>\n",
       "      <td>2018-02-12 12:49:29</td>\n",
       "      <td>Mourgues du Grès IGP Pont du Gard Terre d'Arge...</td>\n",
       "      <td>Magnifique exemple d’assemblage réussi, ou cha...</td>\n",
       "      <td>mourgues-du-gres-costieres-de-nimes-terre-darg...</td>\n",
       "    </tr>\n",
       "    <tr>\n",
       "      <th>1509</th>\n",
       "      <td>15663</td>\n",
       "      <td>3</td>\n",
       "      <td>2018-02-27 10:27:01</td>\n",
       "      <td>Chermette Domaine du Vissoux Brouilly Pierreux...</td>\n",
       "      <td>Le Brouilly est le plus méridional des crus du...</td>\n",
       "      <td>chermette-domaine-du-vissoux-brouilly-pierreux...</td>\n",
       "    </tr>\n",
       "    <tr>\n",
       "      <th>1510</th>\n",
       "      <td>15910</td>\n",
       "      <td>0</td>\n",
       "      <td>2019-03-28 10:59:43</td>\n",
       "      <td>Thevenet Quintaine Viré-Clessé La Bongran 2015</td>\n",
       "      <td>C’est dans cette cuvée la pleine expression du...</td>\n",
       "      <td>thevenet-quintaine-vire-clesse-la-bongran-2015</td>\n",
       "    </tr>\n",
       "  </tbody>\n",
       "</table>\n",
       "<p>714 rows × 6 columns</p>\n",
       "</div>"
      ],
      "text/plain": [
       "        sku  total_sales           post_date  \\\n",
       "2     15075            3 2018-02-14 15:39:43   \n",
       "3     16209            6 2018-02-14 17:15:31   \n",
       "5     13895            0 2019-03-19 10:41:50   \n",
       "6     12857            0 2018-04-12 17:56:13   \n",
       "9     14106            0 2019-06-08 09:54:21   \n",
       "...     ...          ...                 ...   \n",
       "1501  15941            4 2018-02-12 14:26:52   \n",
       "1503  10459            0 2018-04-13 15:58:19   \n",
       "1507  16320            3 2018-02-12 12:49:29   \n",
       "1509  15663            3 2018-02-27 10:27:01   \n",
       "1510  15910            0 2019-03-28 10:59:43   \n",
       "\n",
       "                                             post_title  \\\n",
       "2                     Parés Baltà Penedès Indigena 2017   \n",
       "3                        Maurel Cabardès Tradition 2017   \n",
       "5            Château Saransot-Dupré Bordeaux Blanc 2016   \n",
       "6     Château de Meursault Puligny-Montrachet 1er Cr...   \n",
       "9                   Stéphane Tissot Château-Chalon 2011   \n",
       "...                                                 ...   \n",
       "1501    Domaine de la Jérôme Côtes du Rhône Village 201   \n",
       "1503  Alphonse Mellot Sancerre Rouge Génération XIX ...   \n",
       "1507  Mourgues du Grès IGP Pont du Gard Terre d'Arge...   \n",
       "1509  Chermette Domaine du Vissoux Brouilly Pierreux...   \n",
       "1510     Thevenet Quintaine Viré-Clessé La Bongran 2015   \n",
       "\n",
       "                                           post_excerpt  \\\n",
       "2     Des couleurs et aromes intenses où le fruit et...   \n",
       "3     Un joli nez aux arômes de fruits rouges, de ca...   \n",
       "5     <span style=\"display: inline !important; float...   \n",
       "6     Il présente une grande fraîcheur minérale au n...   \n",
       "9     Ce vin peut-être dégusté sur sa jeunesse mais ...   \n",
       "...                                                 ...   \n",
       "1501  Un vin opulent, à la texture onctueuse, et tou...   \n",
       "1503  Robe d'un superbe rubis, dense et profond - As...   \n",
       "1507  Magnifique exemple d’assemblage réussi, ou cha...   \n",
       "1509  Le Brouilly est le plus méridional des crus du...   \n",
       "1510  C’est dans cette cuvée la pleine expression du...   \n",
       "\n",
       "                                              post_name  \n",
       "2                     pares-balta-penedes-indigena-2017  \n",
       "3                        maurel-cabardes-tradition-2017  \n",
       "5            chateau-saransot-dupre-bordeaux-blanc-2016  \n",
       "6     chateau-de-puligny-montrachet-1cru-champ-canet...  \n",
       "9                   stephane-tissot-chateau-chalon-2011  \n",
       "...                                                 ...  \n",
       "1501                         jerome-cotes-du-rhone-2018  \n",
       "1503  alphonse-mellot-sancerre-rouge-generation-xix-...  \n",
       "1507  mourgues-du-gres-costieres-de-nimes-terre-darg...  \n",
       "1509  chermette-domaine-du-vissoux-brouilly-pierreux...  \n",
       "1510     thevenet-quintaine-vire-clesse-la-bongran-2015  \n",
       "\n",
       "[714 rows x 6 columns]"
      ]
     },
     "execution_count": 203,
     "metadata": {},
     "output_type": "execute_result"
    }
   ],
   "source": [
    "df_web['total_sales'] = df_web['total_sales'].astype('Int64')\n",
    "\n",
    "df_web['sku'].describe() #1428, une centaine sans id, mais seulement 714 unique, donc doublons partout (freq 2)\n",
    "df_web['total_sales'].describe() #C'est logique : min = 0, max = 96\n",
    "df_web['post_date'].describe() #min 2018, max 2020, count 1430\n",
    "df_web['post_title'].describe() #1430 occurences, ça fait une centaine de produits sans titre\n",
    "df_web['post_excerpt'].describe() #commentaires, 716 val, on conserve\n",
    "df_web['post_name'].describe() #Comme post_title, format différent\n",
    "\n",
    "df_web['post_type'].value_counts() #Ca va servir à nettoyer les attachment qui sont des doublons\n",
    "\n",
    "df_web_1 = df_web[(~df_web['sku'].isna()) & (df_web['post_type'] == 'product')]\n",
    "\n",
    "\n",
    "df_web_1['virtual'].value_counts() #uniquement 0, on va s'en débarasser\n",
    "df_web_1['downloadable'].value_counts() #0 \n",
    "df_web_1['rating_count'].value_counts() #0\n",
    "df_web_1['average_rating'].value_counts() #0\n",
    "df_web_1['tax_class'].value_counts() #Vide\n",
    "df_web_1['post_author'].value_counts() #2x 1.0, sinon 1428 2.0, passer en int + voir ce que ça représente\n",
    "df_web_1['post_content'].describe() #vide\n",
    "df_web_1['post_status'].value_counts() #1430 publish, tout les posts ont été publish, logique. Donc pas necessaire de la conserver\n",
    "df_web_1['comment_status'].value_counts() #1430 clos... \n",
    "df_web_1['ping_status'].value_counts() #1430 clos\n",
    "df_web_1['post_password'].value_counts() #vide\n",
    "df_web_1['post_content_filtered'].value_counts() #vide\n",
    "df_web_1['post_parent'].value_counts() #1430 0\n",
    "df_web_1['menu_order'].describe() #0\n",
    "df_web_1['tax_status'].value_counts() #ils sont tous taxable\n",
    "df_web_1['comment_count'].describe() #0 \n",
    "df_web_1['guid'].describe() #lien du site, 1430 dont 1429 unique\n",
    "df_web_1['post_mime_type'].describe() #vide\n",
    "df_web_1['post_date_gmt'].describe() #même chose\n",
    "df_web_1['post_modified'].describe() #date modif\n",
    "df_web_1['post_modified_gmt'].describe()\n",
    "\n",
    "\n",
    "\n",
    "df_web_prep = df_web_1.drop(columns = ['virtual', 'downloadable', 'rating_count','average_rating', 'tax_class','post_author',\n",
    "                                     'post_content', 'post_status', 'comment_status', 'ping_status', 'post_password', \n",
    "                                     'post_content_filtered', 'post_parent', 'menu_order', 'comment_count', 'post_type', 'tax_status', \n",
    "                                     'guid', 'post_mime_type', 'post_date_gmt', 'post_modified', 'post_modified_gmt'])\n",
    "df_web_prep"
   ]
  },
  {
   "cell_type": "markdown",
   "metadata": {},
   "source": [
    "On recherche les deux post qui n'avaient pas de sku "
   ]
  },
  {
   "cell_type": "code",
   "execution_count": 204,
   "metadata": {},
   "outputs": [
    {
     "data": {
      "text/html": [
       "<div>\n",
       "<style scoped>\n",
       "    .dataframe tbody tr th:only-of-type {\n",
       "        vertical-align: middle;\n",
       "    }\n",
       "\n",
       "    .dataframe tbody tr th {\n",
       "        vertical-align: top;\n",
       "    }\n",
       "\n",
       "    .dataframe thead th {\n",
       "        text-align: right;\n",
       "    }\n",
       "</style>\n",
       "<table border=\"1\" class=\"dataframe\">\n",
       "  <thead>\n",
       "    <tr style=\"text-align: right;\">\n",
       "      <th></th>\n",
       "      <th>sku</th>\n",
       "      <th>virtual</th>\n",
       "      <th>downloadable</th>\n",
       "      <th>rating_count</th>\n",
       "      <th>average_rating</th>\n",
       "      <th>total_sales</th>\n",
       "      <th>tax_status</th>\n",
       "      <th>tax_class</th>\n",
       "      <th>post_author</th>\n",
       "      <th>post_date</th>\n",
       "      <th>post_date_gmt</th>\n",
       "      <th>post_content</th>\n",
       "      <th>post_title</th>\n",
       "      <th>post_excerpt</th>\n",
       "      <th>post_status</th>\n",
       "      <th>comment_status</th>\n",
       "      <th>ping_status</th>\n",
       "      <th>post_password</th>\n",
       "      <th>post_name</th>\n",
       "      <th>post_modified</th>\n",
       "      <th>post_modified_gmt</th>\n",
       "      <th>post_content_filtered</th>\n",
       "      <th>post_parent</th>\n",
       "      <th>guid</th>\n",
       "      <th>menu_order</th>\n",
       "      <th>post_type</th>\n",
       "      <th>post_mime_type</th>\n",
       "      <th>comment_count</th>\n",
       "    </tr>\n",
       "  </thead>\n",
       "  <tbody>\n",
       "    <tr>\n",
       "      <th>353</th>\n",
       "      <td>NaN</td>\n",
       "      <td>0</td>\n",
       "      <td>0</td>\n",
       "      <td>0</td>\n",
       "      <td>0.0</td>\n",
       "      <td>3</td>\n",
       "      <td>taxable</td>\n",
       "      <td>NaN</td>\n",
       "      <td>2.0</td>\n",
       "      <td>2018-08-08 11:23:43</td>\n",
       "      <td>2018-08-08 09:23:43</td>\n",
       "      <td>NaN</td>\n",
       "      <td>Pierre Jean Villa Condrieu Jardin Suspendu 2018</td>\n",
       "      <td>&lt;span id=\"u1194-83\"&gt;Le nez séduit par ses parf...</td>\n",
       "      <td>publish</td>\n",
       "      <td>closed</td>\n",
       "      <td>closed</td>\n",
       "      <td>NaN</td>\n",
       "      <td>pierre-jean-villa-condrieu-suspendu-2018</td>\n",
       "      <td>2019-11-02 13:24:01</td>\n",
       "      <td>2019-11-02 12:24:01</td>\n",
       "      <td>NaN</td>\n",
       "      <td>0.0</td>\n",
       "      <td>https://www.bottle-neck.fr/?post_type=product&amp;...</td>\n",
       "      <td>0.0</td>\n",
       "      <td>product</td>\n",
       "      <td>NaN</td>\n",
       "      <td>0.0</td>\n",
       "    </tr>\n",
       "    <tr>\n",
       "      <th>488</th>\n",
       "      <td>NaN</td>\n",
       "      <td>0</td>\n",
       "      <td>0</td>\n",
       "      <td>0</td>\n",
       "      <td>0.0</td>\n",
       "      <td>10</td>\n",
       "      <td>taxable</td>\n",
       "      <td>NaN</td>\n",
       "      <td>2.0</td>\n",
       "      <td>2018-07-31 12:07:23</td>\n",
       "      <td>2018-07-31 10:07:23</td>\n",
       "      <td>NaN</td>\n",
       "      <td>Pierre Jean Villa Côte Rôtie Fongeant 2017</td>\n",
       "      <td>Fongeant 2017 explose sur un fruit brillant, p...</td>\n",
       "      <td>publish</td>\n",
       "      <td>closed</td>\n",
       "      <td>closed</td>\n",
       "      <td>NaN</td>\n",
       "      <td>pierre-jean-villa-cote-rotie-fongeant-2017</td>\n",
       "      <td>2019-11-02 13:24:15</td>\n",
       "      <td>2019-11-02 12:24:15</td>\n",
       "      <td>NaN</td>\n",
       "      <td>0.0</td>\n",
       "      <td>https://www.bottle-neck.fr/?post_type=product&amp;...</td>\n",
       "      <td>0.0</td>\n",
       "      <td>product</td>\n",
       "      <td>NaN</td>\n",
       "      <td>0.0</td>\n",
       "    </tr>\n",
       "  </tbody>\n",
       "</table>\n",
       "</div>"
      ],
      "text/plain": [
       "     sku  virtual  downloadable  rating_count  average_rating  total_sales  \\\n",
       "353  NaN        0             0             0             0.0            3   \n",
       "488  NaN        0             0             0             0.0           10   \n",
       "\n",
       "    tax_status  tax_class  post_author           post_date  \\\n",
       "353    taxable        NaN          2.0 2018-08-08 11:23:43   \n",
       "488    taxable        NaN          2.0 2018-07-31 12:07:23   \n",
       "\n",
       "          post_date_gmt  post_content  \\\n",
       "353 2018-08-08 09:23:43           NaN   \n",
       "488 2018-07-31 10:07:23           NaN   \n",
       "\n",
       "                                          post_title  \\\n",
       "353  Pierre Jean Villa Condrieu Jardin Suspendu 2018   \n",
       "488       Pierre Jean Villa Côte Rôtie Fongeant 2017   \n",
       "\n",
       "                                          post_excerpt post_status  \\\n",
       "353  <span id=\"u1194-83\">Le nez séduit par ses parf...     publish   \n",
       "488  Fongeant 2017 explose sur un fruit brillant, p...     publish   \n",
       "\n",
       "    comment_status ping_status  post_password  \\\n",
       "353         closed      closed            NaN   \n",
       "488         closed      closed            NaN   \n",
       "\n",
       "                                      post_name       post_modified  \\\n",
       "353    pierre-jean-villa-condrieu-suspendu-2018 2019-11-02 13:24:01   \n",
       "488  pierre-jean-villa-cote-rotie-fongeant-2017 2019-11-02 13:24:15   \n",
       "\n",
       "      post_modified_gmt  post_content_filtered  post_parent  \\\n",
       "353 2019-11-02 12:24:01                    NaN          0.0   \n",
       "488 2019-11-02 12:24:15                    NaN          0.0   \n",
       "\n",
       "                                                  guid  menu_order post_type  \\\n",
       "353  https://www.bottle-neck.fr/?post_type=product&...         0.0   product   \n",
       "488  https://www.bottle-neck.fr/?post_type=product&...         0.0   product   \n",
       "\n",
       "    post_mime_type  comment_count  \n",
       "353            NaN            0.0  \n",
       "488            NaN            0.0  "
      ]
     },
     "execution_count": 204,
     "metadata": {},
     "output_type": "execute_result"
    }
   ],
   "source": [
    "web_sans_sku = df_web[df_web['sku'].isna()]\n",
    "web_sans_sku[~web_sans_sku['post_name'].isna()]"
   ]
  },
  {
   "cell_type": "markdown",
   "metadata": {},
   "source": [
    "2 produits différents, voire s'il y a d'autres Pierre Jean Villa "
   ]
  },
  {
   "cell_type": "code",
   "execution_count": 205,
   "metadata": {},
   "outputs": [
    {
     "data": {
      "text/html": [
       "<div>\n",
       "<style scoped>\n",
       "    .dataframe tbody tr th:only-of-type {\n",
       "        vertical-align: middle;\n",
       "    }\n",
       "\n",
       "    .dataframe tbody tr th {\n",
       "        vertical-align: top;\n",
       "    }\n",
       "\n",
       "    .dataframe thead th {\n",
       "        text-align: right;\n",
       "    }\n",
       "</style>\n",
       "<table border=\"1\" class=\"dataframe\">\n",
       "  <thead>\n",
       "    <tr style=\"text-align: right;\">\n",
       "      <th></th>\n",
       "      <th>sku</th>\n",
       "      <th>total_sales</th>\n",
       "      <th>post_date</th>\n",
       "      <th>post_title</th>\n",
       "      <th>post_excerpt</th>\n",
       "      <th>post_name</th>\n",
       "    </tr>\n",
       "  </thead>\n",
       "  <tbody>\n",
       "    <tr>\n",
       "      <th>29</th>\n",
       "      <td>19815</td>\n",
       "      <td>0</td>\n",
       "      <td>2018-02-12 09:04:37</td>\n",
       "      <td>Pierre Jean Villa Côte Rôtie Carmina 2017</td>\n",
       "      <td>Le côte rôtie Carmina monte en puissance mais ...</td>\n",
       "      <td>pierre-jean-villa-cote-rotie-carmina-2017</td>\n",
       "    </tr>\n",
       "    <tr>\n",
       "      <th>365</th>\n",
       "      <td>19814</td>\n",
       "      <td>3</td>\n",
       "      <td>2018-02-09 14:01:05</td>\n",
       "      <td>Pierre Jean Villa IGP Collines Rhodaniennes Ga...</td>\n",
       "      <td>Gamine représente tout le fruité et la gourman...</td>\n",
       "      <td>pierre-jean-villa-igp-gamine-2018</td>\n",
       "    </tr>\n",
       "    <tr>\n",
       "      <th>522</th>\n",
       "      <td>15298</td>\n",
       "      <td>6</td>\n",
       "      <td>2018-02-08 12:58:52</td>\n",
       "      <td>Pierre Jean Villa Saint-Joseph Préface 2018</td>\n",
       "      <td>Il exhale un nez subtil, racé avec du poivre f...</td>\n",
       "      <td>pierre-jean-villa-saint-joseph-preface-2018</td>\n",
       "    </tr>\n",
       "    <tr>\n",
       "      <th>833</th>\n",
       "      <td>15300</td>\n",
       "      <td>0</td>\n",
       "      <td>2018-02-08 14:08:36</td>\n",
       "      <td>Pierre Jean Villa Crozes-Hermitage Accroche Co...</td>\n",
       "      <td>Dentelle de fruit de jeunes syrah, aux tanins ...</td>\n",
       "      <td>pierre-jean-villa-croze-hermitage-accroche-coe...</td>\n",
       "    </tr>\n",
       "    <tr>\n",
       "      <th>1015</th>\n",
       "      <td>15303</td>\n",
       "      <td>0</td>\n",
       "      <td>2018-02-12 09:13:35</td>\n",
       "      <td>Pierre Jean Villa Saint-Joseph Saut De l'Ange ...</td>\n",
       "      <td>Roussanne finement exotique, atypique par sa v...</td>\n",
       "      <td>pierre-jean-villa-saint-joseph-saut-ange-2018</td>\n",
       "    </tr>\n",
       "    <tr>\n",
       "      <th>1375</th>\n",
       "      <td>15296</td>\n",
       "      <td>0</td>\n",
       "      <td>2018-02-08 13:49:41</td>\n",
       "      <td>Pierre Jean Villa Saint-Joseph Rouge Tildé 2017</td>\n",
       "      <td>Les vieilles vignes lui apportent une rare pro...</td>\n",
       "      <td>pierre-jean-villa-saint-joseph-tilde-2017</td>\n",
       "    </tr>\n",
       "  </tbody>\n",
       "</table>\n",
       "</div>"
      ],
      "text/plain": [
       "        sku  total_sales           post_date  \\\n",
       "29    19815            0 2018-02-12 09:04:37   \n",
       "365   19814            3 2018-02-09 14:01:05   \n",
       "522   15298            6 2018-02-08 12:58:52   \n",
       "833   15300            0 2018-02-08 14:08:36   \n",
       "1015  15303            0 2018-02-12 09:13:35   \n",
       "1375  15296            0 2018-02-08 13:49:41   \n",
       "\n",
       "                                             post_title  \\\n",
       "29            Pierre Jean Villa Côte Rôtie Carmina 2017   \n",
       "365   Pierre Jean Villa IGP Collines Rhodaniennes Ga...   \n",
       "522         Pierre Jean Villa Saint-Joseph Préface 2018   \n",
       "833   Pierre Jean Villa Crozes-Hermitage Accroche Co...   \n",
       "1015  Pierre Jean Villa Saint-Joseph Saut De l'Ange ...   \n",
       "1375    Pierre Jean Villa Saint-Joseph Rouge Tildé 2017   \n",
       "\n",
       "                                           post_excerpt  \\\n",
       "29    Le côte rôtie Carmina monte en puissance mais ...   \n",
       "365   Gamine représente tout le fruité et la gourman...   \n",
       "522   Il exhale un nez subtil, racé avec du poivre f...   \n",
       "833   Dentelle de fruit de jeunes syrah, aux tanins ...   \n",
       "1015  Roussanne finement exotique, atypique par sa v...   \n",
       "1375  Les vieilles vignes lui apportent une rare pro...   \n",
       "\n",
       "                                              post_name  \n",
       "29            pierre-jean-villa-cote-rotie-carmina-2017  \n",
       "365                   pierre-jean-villa-igp-gamine-2018  \n",
       "522         pierre-jean-villa-saint-joseph-preface-2018  \n",
       "833   pierre-jean-villa-croze-hermitage-accroche-coe...  \n",
       "1015      pierre-jean-villa-saint-joseph-saut-ange-2018  \n",
       "1375          pierre-jean-villa-saint-joseph-tilde-2017  "
      ]
     },
     "execution_count": 205,
     "metadata": {},
     "output_type": "execute_result"
    }
   ],
   "source": [
    "df_web_prep[(~df_web_prep['post_title'].isna()) & (df_web_prep['post_title'].str.contains('Pierre Jean Villa'))]"
   ]
  },
  {
   "cell_type": "markdown",
   "metadata": {},
   "source": [
    "Ca aide pas. "
   ]
  },
  {
   "cell_type": "markdown",
   "metadata": {},
   "source": [
    "Idées explo bonus : Faire des groupes par maisons et d'autres par années (décorélé de l'année de publication sur le site )"
   ]
  },
  {
   "cell_type": "code",
   "execution_count": 206,
   "metadata": {},
   "outputs": [
    {
     "data": {
      "text/html": [
       "<div>\n",
       "<style scoped>\n",
       "    .dataframe tbody tr th:only-of-type {\n",
       "        vertical-align: middle;\n",
       "    }\n",
       "\n",
       "    .dataframe tbody tr th {\n",
       "        vertical-align: top;\n",
       "    }\n",
       "\n",
       "    .dataframe thead th {\n",
       "        text-align: right;\n",
       "    }\n",
       "</style>\n",
       "<table border=\"1\" class=\"dataframe\">\n",
       "  <thead>\n",
       "    <tr style=\"text-align: right;\">\n",
       "      <th></th>\n",
       "      <th>sku</th>\n",
       "      <th>total_sales</th>\n",
       "      <th>post_date</th>\n",
       "      <th>post_title</th>\n",
       "      <th>post_excerpt</th>\n",
       "      <th>post_name</th>\n",
       "    </tr>\n",
       "  </thead>\n",
       "  <tbody>\n",
       "    <tr>\n",
       "      <th>2</th>\n",
       "      <td>15075</td>\n",
       "      <td>3</td>\n",
       "      <td>2018-02-14 15:39:43</td>\n",
       "      <td>Parés Baltà Penedès Indigena 2017</td>\n",
       "      <td>Des couleurs et aromes intenses où le fruit et...</td>\n",
       "      <td>pares-balta-penedes-indigena-2017</td>\n",
       "    </tr>\n",
       "    <tr>\n",
       "      <th>3</th>\n",
       "      <td>16209</td>\n",
       "      <td>6</td>\n",
       "      <td>2018-02-14 17:15:31</td>\n",
       "      <td>Maurel Cabardès Tradition 2017</td>\n",
       "      <td>Un joli nez aux arômes de fruits rouges, de ca...</td>\n",
       "      <td>maurel-cabardes-tradition-2017</td>\n",
       "    </tr>\n",
       "    <tr>\n",
       "      <th>5</th>\n",
       "      <td>13895</td>\n",
       "      <td>0</td>\n",
       "      <td>2019-03-19 10:41:50</td>\n",
       "      <td>Château Saransot-Dupré Bordeaux Blanc 2016</td>\n",
       "      <td>&lt;span style=\"display: inline !important; float...</td>\n",
       "      <td>chateau-saransot-dupre-bordeaux-blanc-2016</td>\n",
       "    </tr>\n",
       "    <tr>\n",
       "      <th>6</th>\n",
       "      <td>12857</td>\n",
       "      <td>0</td>\n",
       "      <td>2018-04-12 17:56:13</td>\n",
       "      <td>Château de Meursault Puligny-Montrachet 1er Cr...</td>\n",
       "      <td>Il présente une grande fraîcheur minérale au n...</td>\n",
       "      <td>chateau-de-puligny-montrachet-1cru-champ-canet...</td>\n",
       "    </tr>\n",
       "    <tr>\n",
       "      <th>9</th>\n",
       "      <td>14106</td>\n",
       "      <td>0</td>\n",
       "      <td>2019-06-08 09:54:21</td>\n",
       "      <td>Stéphane Tissot Château-Chalon 2011</td>\n",
       "      <td>Ce vin peut-être dégusté sur sa jeunesse mais ...</td>\n",
       "      <td>stephane-tissot-chateau-chalon-2011</td>\n",
       "    </tr>\n",
       "    <tr>\n",
       "      <th>10</th>\n",
       "      <td>13996</td>\n",
       "      <td>2</td>\n",
       "      <td>2019-07-25 09:09:17</td>\n",
       "      <td>Domaine des Comtes Lafon Volnay 1er Cru Santen...</td>\n",
       "      <td>\"Il s'agit là de la meilleure partie de l'appe...</td>\n",
       "      <td>domaine-des-comtes-lafon-volnay-1er-cru-santen...</td>\n",
       "    </tr>\n",
       "    <tr>\n",
       "      <th>15</th>\n",
       "      <td>15428</td>\n",
       "      <td>7</td>\n",
       "      <td>2018-02-20 10:40:13</td>\n",
       "      <td>Domaine Saint-Denis Mâcon Lugny 2017</td>\n",
       "      <td>Un très joli Mâcon sur la fraîcheur, net et éq...</td>\n",
       "      <td>st-denis-macon-lugny-2017</td>\n",
       "    </tr>\n",
       "    <tr>\n",
       "      <th>20</th>\n",
       "      <td>7033</td>\n",
       "      <td>4</td>\n",
       "      <td>2019-03-13 13:44:44</td>\n",
       "      <td>Huile d'Olive Extra Vierge Planeta Selezione C...</td>\n",
       "      <td>Récoltées entre le 15 octobre et le 30 novembr...</td>\n",
       "      <td>huile-olive-planeta-3l</td>\n",
       "    </tr>\n",
       "    <tr>\n",
       "      <th>22</th>\n",
       "      <td>16077</td>\n",
       "      <td>37</td>\n",
       "      <td>2019-07-24 09:33:52</td>\n",
       "      <td>Domaine Giudicelli Patrimonio Rouge 2016</td>\n",
       "      <td>100% Nielluccio ce Patrimonio présente un nez ...</td>\n",
       "      <td>domaine-giudicelli-patrimonio-rouge-2016</td>\n",
       "    </tr>\n",
       "    <tr>\n",
       "      <th>23</th>\n",
       "      <td>16237</td>\n",
       "      <td>36</td>\n",
       "      <td>2018-02-13 14:13:53</td>\n",
       "      <td>Elian Daros Côtes du Marmandais Clos Baquey 2015</td>\n",
       "      <td>&lt;span id=\"u689-24\"&gt;Clos Baquey&lt;/span&gt;  est  tr...</td>\n",
       "      <td>elian-daros-cotes-du-marmandais-clos-baquey-2015</td>\n",
       "    </tr>\n",
       "  </tbody>\n",
       "</table>\n",
       "</div>"
      ],
      "text/plain": [
       "      sku  total_sales           post_date  \\\n",
       "2   15075            3 2018-02-14 15:39:43   \n",
       "3   16209            6 2018-02-14 17:15:31   \n",
       "5   13895            0 2019-03-19 10:41:50   \n",
       "6   12857            0 2018-04-12 17:56:13   \n",
       "9   14106            0 2019-06-08 09:54:21   \n",
       "10  13996            2 2019-07-25 09:09:17   \n",
       "15  15428            7 2018-02-20 10:40:13   \n",
       "20   7033            4 2019-03-13 13:44:44   \n",
       "22  16077           37 2019-07-24 09:33:52   \n",
       "23  16237           36 2018-02-13 14:13:53   \n",
       "\n",
       "                                           post_title  \\\n",
       "2                   Parés Baltà Penedès Indigena 2017   \n",
       "3                      Maurel Cabardès Tradition 2017   \n",
       "5          Château Saransot-Dupré Bordeaux Blanc 2016   \n",
       "6   Château de Meursault Puligny-Montrachet 1er Cr...   \n",
       "9                 Stéphane Tissot Château-Chalon 2011   \n",
       "10  Domaine des Comtes Lafon Volnay 1er Cru Santen...   \n",
       "15               Domaine Saint-Denis Mâcon Lugny 2017   \n",
       "20  Huile d'Olive Extra Vierge Planeta Selezione C...   \n",
       "22           Domaine Giudicelli Patrimonio Rouge 2016   \n",
       "23   Elian Daros Côtes du Marmandais Clos Baquey 2015   \n",
       "\n",
       "                                         post_excerpt  \\\n",
       "2   Des couleurs et aromes intenses où le fruit et...   \n",
       "3   Un joli nez aux arômes de fruits rouges, de ca...   \n",
       "5   <span style=\"display: inline !important; float...   \n",
       "6   Il présente une grande fraîcheur minérale au n...   \n",
       "9   Ce vin peut-être dégusté sur sa jeunesse mais ...   \n",
       "10  \"Il s'agit là de la meilleure partie de l'appe...   \n",
       "15  Un très joli Mâcon sur la fraîcheur, net et éq...   \n",
       "20  Récoltées entre le 15 octobre et le 30 novembr...   \n",
       "22  100% Nielluccio ce Patrimonio présente un nez ...   \n",
       "23  <span id=\"u689-24\">Clos Baquey</span>  est  tr...   \n",
       "\n",
       "                                            post_name  \n",
       "2                   pares-balta-penedes-indigena-2017  \n",
       "3                      maurel-cabardes-tradition-2017  \n",
       "5          chateau-saransot-dupre-bordeaux-blanc-2016  \n",
       "6   chateau-de-puligny-montrachet-1cru-champ-canet...  \n",
       "9                 stephane-tissot-chateau-chalon-2011  \n",
       "10  domaine-des-comtes-lafon-volnay-1er-cru-santen...  \n",
       "15                          st-denis-macon-lugny-2017  \n",
       "20                             huile-olive-planeta-3l  \n",
       "22           domaine-giudicelli-patrimonio-rouge-2016  \n",
       "23   elian-daros-cotes-du-marmandais-clos-baquey-2015  "
      ]
     },
     "execution_count": 206,
     "metadata": {},
     "output_type": "execute_result"
    }
   ],
   "source": [
    "df_web_prep.head(10)"
   ]
  },
  {
   "cell_type": "code",
   "execution_count": 207,
   "metadata": {},
   "outputs": [
    {
     "data": {
      "text/plain": [
       "'huile-olive-planeta-3l'"
      ]
     },
     "execution_count": 207,
     "metadata": {},
     "output_type": "execute_result"
    }
   ],
   "source": [
    "df_web_prep.loc[20,'post_name']"
   ]
  },
  {
   "cell_type": "markdown",
   "metadata": {},
   "source": [
    "- Ouais alors... il a pas trop sa place au milieu des vins surtout pour les recherches qu'on souhaite mener \n",
    "\n",
    "- <span id=\"u689-24\">Clos Baquey</span>  est  tr...\t erreur encodage, bon. "
   ]
  },
  {
   "cell_type": "code",
   "execution_count": 208,
   "metadata": {},
   "outputs": [
    {
     "data": {
      "text/plain": [
       "count      714\n",
       "unique      71\n",
       "top       2017\n",
       "freq       182\n",
       "Name: Annee, dtype: object"
      ]
     },
     "execution_count": 208,
     "metadata": {},
     "output_type": "execute_result"
    }
   ],
   "source": [
    "df_web_prep['Annee'] = df_web_prep['post_name'].str.split('-').str[-1]\n",
    "df_web_prep['Annee'].describe()"
   ]
  },
  {
   "cell_type": "markdown",
   "metadata": {},
   "source": [
    "71 années uniques ? Ouais non. "
   ]
  },
  {
   "cell_type": "code",
   "execution_count": 209,
   "metadata": {},
   "outputs": [
    {
     "data": {
      "text/plain": [
       "Annee\n",
       "2017       182\n",
       "2018       150\n",
       "2016       110\n",
       "2019        63\n",
       "2015        56\n",
       "          ... \n",
       "chest        1\n",
       "elcho        1\n",
       "blanc        1\n",
       "euros        1\n",
       "dalsace      1\n",
       "Name: count, Length: 71, dtype: int64"
      ]
     },
     "execution_count": 209,
     "metadata": {},
     "output_type": "execute_result"
    }
   ],
   "source": [
    "df_web_prep['Annee'].value_counts()"
   ]
  },
  {
   "cell_type": "code",
   "execution_count": 210,
   "metadata": {},
   "outputs": [
    {
     "data": {
      "text/plain": [
       "'Wemyss Malts Blended Malt Scotch Whisky Treacle Chest'"
      ]
     },
     "execution_count": 210,
     "metadata": {},
     "output_type": "execute_result"
    }
   ],
   "source": [
    "df_web_prep[df_web_prep['post_name'].str.contains('chest')]\n",
    "df_web_prep.loc[695, 'post_title']"
   ]
  },
  {
   "cell_type": "markdown",
   "metadata": {},
   "source": [
    "Je suis un fainéant, on va y aller au nlp. "
   ]
  },
  {
   "cell_type": "markdown",
   "metadata": {},
   "source": [
    "Plus tard. "
   ]
  },
  {
   "cell_type": "code",
   "execution_count": 218,
   "metadata": {},
   "outputs": [
    {
     "name": "stdout",
     "output_type": "stream",
     "text": [
      "0\n",
      "0\n",
      "714\n",
      "714\n"
     ]
    }
   ],
   "source": [
    "df_erp_l_prep = df_erp_l[(~df_erp_l['sku'].isna()) & (df_erp_l['onsale_web'] == True)]\n",
    "print(df_erp_l_prep['product_id'].isna().sum())\n",
    "print(df_erp_l_prep['sku'].isna().sum())\n",
    "\n",
    "print(df_erp_l_prep.shape[0])\n",
    "print(df_web_prep.shape[0])"
   ]
  },
  {
   "cell_type": "markdown",
   "metadata": {},
   "source": [
    "La table web n'est pas parfaitement complete. On va se baser sur le df liaison pour le join, c'est pas grave si on a pas le titre d'un sku. "
   ]
  },
  {
   "cell_type": "code",
   "execution_count": 221,
   "metadata": {},
   "outputs": [
    {
     "data": {
      "text/html": [
       "<div>\n",
       "<style scoped>\n",
       "    .dataframe tbody tr th:only-of-type {\n",
       "        vertical-align: middle;\n",
       "    }\n",
       "\n",
       "    .dataframe tbody tr th {\n",
       "        vertical-align: top;\n",
       "    }\n",
       "\n",
       "    .dataframe thead th {\n",
       "        text-align: right;\n",
       "    }\n",
       "</style>\n",
       "<table border=\"1\" class=\"dataframe\">\n",
       "  <thead>\n",
       "    <tr style=\"text-align: right;\">\n",
       "      <th></th>\n",
       "      <th>price</th>\n",
       "      <th>stock_quantity</th>\n",
       "      <th>stock_status</th>\n",
       "      <th>total_sales</th>\n",
       "      <th>post_date</th>\n",
       "      <th>post_title</th>\n",
       "      <th>post_excerpt</th>\n",
       "      <th>post_name</th>\n",
       "    </tr>\n",
       "  </thead>\n",
       "  <tbody>\n",
       "    <tr>\n",
       "      <th>0</th>\n",
       "      <td>24.2</td>\n",
       "      <td>0</td>\n",
       "      <td>outofstock</td>\n",
       "      <td>6</td>\n",
       "      <td>2018-02-08 12:58:52</td>\n",
       "      <td>Pierre Jean Villa Saint-Joseph Préface 2018</td>\n",
       "      <td>Il exhale un nez subtil, racé avec du poivre f...</td>\n",
       "      <td>pierre-jean-villa-saint-joseph-preface-2018</td>\n",
       "    </tr>\n",
       "    <tr>\n",
       "      <th>1</th>\n",
       "      <td>34.3</td>\n",
       "      <td>0</td>\n",
       "      <td>outofstock</td>\n",
       "      <td>0</td>\n",
       "      <td>2018-02-08 13:49:41</td>\n",
       "      <td>Pierre Jean Villa Saint-Joseph Rouge Tildé 2017</td>\n",
       "      <td>Les vieilles vignes lui apportent une rare pro...</td>\n",
       "      <td>pierre-jean-villa-saint-joseph-tilde-2017</td>\n",
       "    </tr>\n",
       "    <tr>\n",
       "      <th>2</th>\n",
       "      <td>20.8</td>\n",
       "      <td>0</td>\n",
       "      <td>outofstock</td>\n",
       "      <td>0</td>\n",
       "      <td>2018-02-08 14:08:36</td>\n",
       "      <td>Pierre Jean Villa Crozes-Hermitage Accroche Co...</td>\n",
       "      <td>Dentelle de fruit de jeunes syrah, aux tanins ...</td>\n",
       "      <td>pierre-jean-villa-croze-hermitage-accroche-coe...</td>\n",
       "    </tr>\n",
       "    <tr>\n",
       "      <th>3</th>\n",
       "      <td>14.1</td>\n",
       "      <td>0</td>\n",
       "      <td>outofstock</td>\n",
       "      <td>3</td>\n",
       "      <td>2018-02-09 14:01:05</td>\n",
       "      <td>Pierre Jean Villa IGP Collines Rhodaniennes Ga...</td>\n",
       "      <td>Gamine représente tout le fruité et la gourman...</td>\n",
       "      <td>pierre-jean-villa-igp-gamine-2018</td>\n",
       "    </tr>\n",
       "    <tr>\n",
       "      <th>4</th>\n",
       "      <td>46.0</td>\n",
       "      <td>0</td>\n",
       "      <td>outofstock</td>\n",
       "      <td>0</td>\n",
       "      <td>2018-02-12 09:04:37</td>\n",
       "      <td>Pierre Jean Villa Côte Rôtie Carmina 2017</td>\n",
       "      <td>Le côte rôtie Carmina monte en puissance mais ...</td>\n",
       "      <td>pierre-jean-villa-cote-rotie-carmina-2017</td>\n",
       "    </tr>\n",
       "    <tr>\n",
       "      <th>...</th>\n",
       "      <td>...</td>\n",
       "      <td>...</td>\n",
       "      <td>...</td>\n",
       "      <td>...</td>\n",
       "      <td>...</td>\n",
       "      <td>...</td>\n",
       "      <td>...</td>\n",
       "      <td>...</td>\n",
       "    </tr>\n",
       "    <tr>\n",
       "      <th>709</th>\n",
       "      <td>8.4</td>\n",
       "      <td>83</td>\n",
       "      <td>instock</td>\n",
       "      <td>5</td>\n",
       "      <td>2020-04-25 13:22:38</td>\n",
       "      <td>Mouthes Le Bihan Côtes de Duras L'Aimé Chai 2015</td>\n",
       "      <td>Belle robe jeune à dominante rubis soutenue. N...</td>\n",
       "      <td>mouthes-le-bihan-aime-chai-2015</td>\n",
       "    </tr>\n",
       "    <tr>\n",
       "      <th>710</th>\n",
       "      <td>27.5</td>\n",
       "      <td>15</td>\n",
       "      <td>instock</td>\n",
       "      <td>0</td>\n",
       "      <td>2020-05-02 14:53:40</td>\n",
       "      <td>Camin Larredya Jurançon Sec La Virada 2018</td>\n",
       "      <td>L'exotisme du nez est complété par d'élégantes...</td>\n",
       "      <td>camin-larredya-jurancon-sec-la-virada-2018</td>\n",
       "    </tr>\n",
       "    <tr>\n",
       "      <th>711</th>\n",
       "      <td>69.0</td>\n",
       "      <td>2</td>\n",
       "      <td>instock</td>\n",
       "      <td>0</td>\n",
       "      <td>2020-05-02 15:00:54</td>\n",
       "      <td>Domaine Jamet Côte Rôtie Fructus Voluptas 2018</td>\n",
       "      <td>Pour cette cuvée, Jean-Paul Jamet recherche un...</td>\n",
       "      <td>jamet-cote-rotie-fructus-voluptas-2018</td>\n",
       "    </tr>\n",
       "    <tr>\n",
       "      <th>712</th>\n",
       "      <td>54.8</td>\n",
       "      <td>23</td>\n",
       "      <td>instock</td>\n",
       "      <td>0</td>\n",
       "      <td>2020-06-09 15:42:04</td>\n",
       "      <td>Clos du Mont-Olivet Châteauneuf-du-Pape 2007</td>\n",
       "      <td>Nez gracieux, très élégant avec une touche flo...</td>\n",
       "      <td>clos-du-mont-olivet-chateauneuf-du-pape-2007-2</td>\n",
       "    </tr>\n",
       "    <tr>\n",
       "      <th>713</th>\n",
       "      <td>16.3</td>\n",
       "      <td>45</td>\n",
       "      <td>instock</td>\n",
       "      <td>0</td>\n",
       "      <td>2020-07-20 11:00:00</td>\n",
       "      <td>Domaine Saint-Nicolas Vin de France Blanc Les ...</td>\n",
       "      <td>Issu d'un assemblage de chenin blanc et de cha...</td>\n",
       "      <td>domaine-saint-nicolas-fiefs-vendeens-blanc-les...</td>\n",
       "    </tr>\n",
       "  </tbody>\n",
       "</table>\n",
       "<p>714 rows × 8 columns</p>\n",
       "</div>"
      ],
      "text/plain": [
       "     price  stock_quantity stock_status  total_sales           post_date  \\\n",
       "0     24.2               0   outofstock            6 2018-02-08 12:58:52   \n",
       "1     34.3               0   outofstock            0 2018-02-08 13:49:41   \n",
       "2     20.8               0   outofstock            0 2018-02-08 14:08:36   \n",
       "3     14.1               0   outofstock            3 2018-02-09 14:01:05   \n",
       "4     46.0               0   outofstock            0 2018-02-12 09:04:37   \n",
       "..     ...             ...          ...          ...                 ...   \n",
       "709    8.4              83      instock            5 2020-04-25 13:22:38   \n",
       "710   27.5              15      instock            0 2020-05-02 14:53:40   \n",
       "711   69.0               2      instock            0 2020-05-02 15:00:54   \n",
       "712   54.8              23      instock            0 2020-06-09 15:42:04   \n",
       "713   16.3              45      instock            0 2020-07-20 11:00:00   \n",
       "\n",
       "                                            post_title  \\\n",
       "0          Pierre Jean Villa Saint-Joseph Préface 2018   \n",
       "1      Pierre Jean Villa Saint-Joseph Rouge Tildé 2017   \n",
       "2    Pierre Jean Villa Crozes-Hermitage Accroche Co...   \n",
       "3    Pierre Jean Villa IGP Collines Rhodaniennes Ga...   \n",
       "4            Pierre Jean Villa Côte Rôtie Carmina 2017   \n",
       "..                                                 ...   \n",
       "709   Mouthes Le Bihan Côtes de Duras L'Aimé Chai 2015   \n",
       "710         Camin Larredya Jurançon Sec La Virada 2018   \n",
       "711     Domaine Jamet Côte Rôtie Fructus Voluptas 2018   \n",
       "712       Clos du Mont-Olivet Châteauneuf-du-Pape 2007   \n",
       "713  Domaine Saint-Nicolas Vin de France Blanc Les ...   \n",
       "\n",
       "                                          post_excerpt  \\\n",
       "0    Il exhale un nez subtil, racé avec du poivre f...   \n",
       "1    Les vieilles vignes lui apportent une rare pro...   \n",
       "2    Dentelle de fruit de jeunes syrah, aux tanins ...   \n",
       "3    Gamine représente tout le fruité et la gourman...   \n",
       "4    Le côte rôtie Carmina monte en puissance mais ...   \n",
       "..                                                 ...   \n",
       "709  Belle robe jeune à dominante rubis soutenue. N...   \n",
       "710  L'exotisme du nez est complété par d'élégantes...   \n",
       "711  Pour cette cuvée, Jean-Paul Jamet recherche un...   \n",
       "712  Nez gracieux, très élégant avec une touche flo...   \n",
       "713  Issu d'un assemblage de chenin blanc et de cha...   \n",
       "\n",
       "                                             post_name  \n",
       "0          pierre-jean-villa-saint-joseph-preface-2018  \n",
       "1            pierre-jean-villa-saint-joseph-tilde-2017  \n",
       "2    pierre-jean-villa-croze-hermitage-accroche-coe...  \n",
       "3                    pierre-jean-villa-igp-gamine-2018  \n",
       "4            pierre-jean-villa-cote-rotie-carmina-2017  \n",
       "..                                                 ...  \n",
       "709                    mouthes-le-bihan-aime-chai-2015  \n",
       "710         camin-larredya-jurancon-sec-la-virada-2018  \n",
       "711             jamet-cote-rotie-fructus-voluptas-2018  \n",
       "712     clos-du-mont-olivet-chateauneuf-du-pape-2007-2  \n",
       "713  domaine-saint-nicolas-fiefs-vendeens-blanc-les...  \n",
       "\n",
       "[714 rows x 8 columns]"
      ]
     },
     "execution_count": 221,
     "metadata": {},
     "output_type": "execute_result"
    }
   ],
   "source": [
    "df_total_prep = df_erp_l_prep.merge(df_web_prep, on = 'sku', how = 'left')\n",
    "df_total = df_total_prep[['price', 'stock_quantity', 'stock_status', 'total_sales', 'post_date', 'post_title', 'post_excerpt', 'post_name']]\n",
    "df_total"
   ]
  },
  {
   "cell_type": "markdown",
   "metadata": {},
   "source": [
    "Notes : \n",
    "\n",
    "- Anomalies join \n",
    "- Reverifier que les tables ont des pk uniques\n",
    "- Formaliser dans le notebook les erreurs / bug + décision prise et pourquoi \n",
    "- Listes des axes d'amelioration "
   ]
  },
  {
   "cell_type": "code",
   "execution_count": null,
   "metadata": {},
   "outputs": [],
   "source": []
  },
  {
   "cell_type": "code",
   "execution_count": null,
   "metadata": {},
   "outputs": [],
   "source": []
  },
  {
   "cell_type": "code",
   "execution_count": null,
   "metadata": {},
   "outputs": [],
   "source": []
  },
  {
   "cell_type": "code",
   "execution_count": null,
   "metadata": {},
   "outputs": [],
   "source": []
  },
  {
   "cell_type": "code",
   "execution_count": null,
   "metadata": {},
   "outputs": [],
   "source": []
  },
  {
   "cell_type": "code",
   "execution_count": null,
   "metadata": {},
   "outputs": [],
   "source": []
  },
  {
   "cell_type": "markdown",
   "metadata": {},
   "source": [
    "Premièrement, j’ai besoin que tu rapproches deux exports : un export de l’ERP contenant les références produit, leur prix de vente et leur état de stock, et un export d’une table de l’outil de CMS contenant les informations des produits commercialisés en ligne (nom, description, nombre de ventes...)."
   ]
  },
  {
   "cell_type": "code",
   "execution_count": null,
   "metadata": {},
   "outputs": [],
   "source": []
  },
  {
   "cell_type": "markdown",
   "metadata": {},
   "source": [
    "Deuxièmement, une fois le rapprochement effectué, je souhaiterais avoir le chiffre d’affaires par produit, ainsi que le total du chiffre d’affaires réalisé en ligne."
   ]
  },
  {
   "cell_type": "code",
   "execution_count": null,
   "metadata": {},
   "outputs": [],
   "source": []
  },
  {
   "cell_type": "markdown",
   "metadata": {},
   "source": [
    "Troisièmement et pour finir, je me demande s’il n’y a pas eu des erreurs de saisie dans certains prix des produits. J'aimerais que tu effectues une analyse sur cette variable afin de détecter d’éventuelles valeurs aberrantes, de les lister et d’en faire une représentation graphique pour plus de lisibilité."
   ]
  },
  {
   "cell_type": "code",
   "execution_count": null,
   "metadata": {},
   "outputs": [],
   "source": []
  },
  {
   "cell_type": "code",
   "execution_count": null,
   "metadata": {},
   "outputs": [],
   "source": []
  }
 ],
 "metadata": {
  "kernelspec": {
   "display_name": "env_ocr",
   "language": "python",
   "name": "python3"
  },
  "language_info": {
   "codemirror_mode": {
    "name": "ipython",
    "version": 3
   },
   "file_extension": ".py",
   "mimetype": "text/x-python",
   "name": "python",
   "nbconvert_exporter": "python",
   "pygments_lexer": "ipython3",
   "version": "3.12.2"
  }
 },
 "nbformat": 4,
 "nbformat_minor": 2
}
